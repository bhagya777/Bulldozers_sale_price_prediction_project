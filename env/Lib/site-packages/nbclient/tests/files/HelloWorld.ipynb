version https://git-lfs.github.com/spec/v1
oid sha256:eb6803c7966164a82aef4ace4b9654854527c218fadae7abece8e2e73e8dcf13
size 357
